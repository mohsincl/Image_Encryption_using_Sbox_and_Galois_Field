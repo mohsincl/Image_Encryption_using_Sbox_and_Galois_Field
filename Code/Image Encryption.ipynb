{
 "cells": [
  {
   "cell_type": "code",
   "execution_count": 13,
   "metadata": {
    "collapsed": false
   },
   "outputs": [],
   "source": [
    "# Image Encryption Using Algebraic S-box and Galois Field\n",
    "\n",
    "# STEP 1/3: Generation of 8x8 S-box (and correspondingly, invertible S-box)\n",
    "\n",
    "# Variable Initializations\n",
    "a=1\t\t# Initial condition\n",
    "b=2\t\t# Generator, g=2 (00000010)\n",
    "mod=2**8\t# Degree, n=8 ; S-box has g**n = 2**8 = 256 entries (8x8 S-box, meaning 8 inputs yields 8 outputs) \n",
    "dim=16\t\t# Dimensions of S-box: 16x16\n",
    "\n",
    "# Matrix Initializations\n",
    "sbox=[[0 for i in xrange(dim)] for i in xrange(dim)]\t\t# S-box\n",
    "G=[[0 for i in xrange(dim)] for i in xrange(dim)]\t\t# Multiplicative Cyclic Group, G\n",
    "invert_G=[[0 for i in xrange(dim)] for i in xrange(dim)]\t# Complement of G\n",
    "flag=[[0 for i in xrange(dim)] for i in xrange(dim)]\t\t# Flag matrix, to check if all values in range(0,255) are in group G\n",
    "invert_sbox=[[0 for i in xrange(dim)] for i in xrange(dim)]\t# Invertible S-box"
   ]
  },
  {
   "cell_type": "code",
   "execution_count": 14,
   "metadata": {
    "collapsed": false
   },
   "outputs": [
    {
     "name": "stdout",
     "output_type": "stream",
     "text": [
      "\n",
      "TABLE-1: CYCLIC MULTIPLICATIVE GROUP, G:\n",
      "   0 255   1 231   2 207 232  59   3  35 208 154 233  20  60 183\n",
      "   4 159  36  66 209 118 155 251 234 245  21  11  61 130 184 146\n",
      "   5 122 160  79  37 113  67 106 210 224 119 221 156 242 252  32\n",
      " 235 213 246 135  22  42  12 140  62 227 131  75 185 191 147  94\n",
      "   6  70 123 195 161  53  80 167  38 109 114 203  68  51 107  49\n",
      " 211  40 225 189 120 111 222 240 157 116 243 128 253 205  33  18\n",
      " 236 163 214  98 247  55 136 102  23  82  43 177  13 169 141  89\n",
      "  63   8 228 151 132  72  76 218 186 125 192 200 148 197  95 174\n",
      "   7 150  71 217 124 199 196 173 162  97  54 101  81 176 168  88\n",
      "  39 188 110 239 115 127 204  17  69 194  52 166 108 202  50  48\n",
      " 212 134  41 139 226  74 190  93 121  78 112 105 223 220 241  31\n",
      " 158  65 117 250 244  10 129 145 254 230 206  58  34 153  19 182\n",
      " 237  15 164  46 215 171  99  86 248 143  56 180 137  91 103  29\n",
      "  24  25  83  26  44  84 178  27  14  45 170  85 142 179  90  28\n",
      "  64 249   9 144 229  57 152 181 133 138  73  92  77 104 219  30\n",
      " 187 238 126  16 193 165 201  47 149 216 198 172  96 100 175  87\n"
     ]
    }
   ],
   "source": [
    "# Computing elements of G (each value in G signify exponential representations of generator, g) \n",
    "for i in xrange(16):\n",
    "\tfor j in xrange(16):\n",
    "\t\tif i==0 and j==0:\t\t\t# Base case\n",
    "\t\t\tG[i][j] = 0\t\t\t \n",
    "\t\telse:\n",
    "\t\t\t# Compute Polynomial multiplication of a and b bit by bit\n",
    "\t\t\tp = 0\t\t\t\t# Initializing product = 0\n",
    "\t\t\tfor counter in xrange(8):\t# Values a and b are in range(0,255) so we have 8 bits \n",
    "\t\t\t\tif b&1 == 1:\t\t# Check if the rightmost bit (LSB) in b equals 1\n",
    "\t\t\t\t\tp=p^a\t\t# If true, XOR product with a\n",
    "\t\t\t\tb>>=1\t\t\t# Right shift b (Divide b by 2)\n",
    "\t\t\t\tcarry = a&0x80\t\t# Before Left shifting a, store the Leftmost bit (MSB) in carry\n",
    "\t\t\t\ta<<=1\t\t\t# Now Left shift a\n",
    "\t\t\t\tif carry == 0x80:\t# Check if carry equals 1\n",
    "\t\t\t\t\ta = a^0x71\t# If true, XOR a with 0x71; 0x71 (0111 0001) corresponds to irreducible polynomial f(x)\n",
    "\t\t\t\t\t\t\t# In the Research paper, f(x) = x^8+x^6+x^5+x^4+1 = (1 0111 0001) in binary, now you know :)  \n",
    "\t\t\t# Multiplication ends here\n",
    "\n",
    "\t\t\tp%=mod\t\t\t\t# product mod 256\n",
    "\t\t\tflag[p/16][p%16]=1\t\t# set flag corresponding to product\n",
    "\t\t\tG[p/16][p%16]=i*16+j\t\t# update G\n",
    "\t\t\ta=p\t\t\t\t# for the next iteration, use previously calculated product\n",
    "\t\t\tb=2\t\t\t\t# reset b to 2 \n",
    "            \n",
    "# Display G\t\t\t\n",
    "print '\\nTABLE-1: CYCLIC MULTIPLICATIVE GROUP, G:'\t\t\t\t\t\t\t\t\n",
    "print('\\n'.join([''.join(['{:4}'.format(i) for i in j]) for j in G]))\n"
   ]
  },
  {
   "cell_type": "code",
   "execution_count": 15,
   "metadata": {
    "collapsed": false
   },
   "outputs": [
    {
     "name": "stdout",
     "output_type": "stream",
     "text": [
      "\n",
      "FLAG MATRIX:\n",
      "   0   1   1   1   1   1   1   1   1   1   1   1   1   1   1   1\n",
      "   1   1   1   1   1   1   1   1   1   1   1   1   1   1   1   1\n",
      "   1   1   1   1   1   1   1   1   1   1   1   1   1   1   1   1\n",
      "   1   1   1   1   1   1   1   1   1   1   1   1   1   1   1   1\n",
      "   1   1   1   1   1   1   1   1   1   1   1   1   1   1   1   1\n",
      "   1   1   1   1   1   1   1   1   1   1   1   1   1   1   1   1\n",
      "   1   1   1   1   1   1   1   1   1   1   1   1   1   1   1   1\n",
      "   1   1   1   1   1   1   1   1   1   1   1   1   1   1   1   1\n",
      "   1   1   1   1   1   1   1   1   1   1   1   1   1   1   1   1\n",
      "   1   1   1   1   1   1   1   1   1   1   1   1   1   1   1   1\n",
      "   1   1   1   1   1   1   1   1   1   1   1   1   1   1   1   1\n",
      "   1   1   1   1   1   1   1   1   1   1   1   1   1   1   1   1\n",
      "   1   1   1   1   1   1   1   1   1   1   1   1   1   1   1   1\n",
      "   1   1   1   1   1   1   1   1   1   1   1   1   1   1   1   1\n",
      "   1   1   1   1   1   1   1   1   1   1   1   1   1   1   1   1\n",
      "   1   1   1   1   1   1   1   1   1   1   1   1   1   1   1   1\n"
     ]
    }
   ],
   "source": [
    "# Display Flag\t\t\t\n",
    "print '\\nFLAG MATRIX:'\t\t\t\t\t\t\t\t\n",
    "print('\\n'.join([''.join(['{:4}'.format(i) for i in j]) for j in flag]))"
   ]
  },
  {
   "cell_type": "code",
   "execution_count": 16,
   "metadata": {
    "collapsed": false
   },
   "outputs": [
    {
     "name": "stdout",
     "output_type": "stream",
     "text": [
      "\n",
      "TABLE-1.5: INVERTIBLE G\n",
      "   0   2   4   8  16  32  64 128 113 226 181  27  54 108 216 193\n",
      " 243 151  95 190  13  26  52 104 208 209 211 215 223 207 239 175\n",
      "  47  94 188   9  18  36  72 144  81 162  53 106 212 217 195 247\n",
      " 159  79 158  77 154  69 138 101 202 229 187   7  14  28  56 112\n",
      " 224 177  19  38  76 152  65 130 117 234 165  59 118 236 169  35\n",
      "  70 140 105 210 213 219 199 255 143 111 222 205 235 167  63 126\n",
      " 252 137  99 198 253 139 103 206 237 171  39  78 156  73 146  85\n",
      " 170  37  74 148  89 178  21  42  84 168  33  66 132 121 242 149\n",
      "  91 182  29  58 116 232 161  51 102 204 233 163  55 110 220 201\n",
      " 227 183  31  62 124 248 129 115 230 189  11  22  44  88 176  17\n",
      "  34  68 136  97 194 245 155  71 142 109 218 197 251 135 127 254\n",
      " 141 107 214 221 203 231 191  15  30  60 120 240 145  83 166  61\n",
      " 122 244 153  67 134 125 250 133 123 246 157  75 150  93 186   5\n",
      "  10  20  40  80 160  49  98 196 249 131 119 238 173  43  86 172\n",
      "  41  82 164  57 114 228 185   3   6  12  24  48  96 192 241 147\n",
      "  87 174  45  90 180  25  50 100 200 225 179  23  46  92 184   1\n"
     ]
    }
   ],
   "source": [
    "# Invertible G (Swapped indexes of a with b in a:g^b)\n",
    "for i in xrange(16):\n",
    "\tfor j in xrange(16):\n",
    "\t\tindex = G[i][j]\n",
    "\t\tinvert_G[index/16][index%16] = 16*i+j\n",
    "        \n",
    "# Display Invertible G\t\t\t\n",
    "print '\\nTABLE-1.5: INVERTIBLE G'\t\t\t\t\t\t\t\t\n",
    "print('\\n'.join([''.join(['{:4}'.format(i) for i in j]) for j in invert_G]))"
   ]
  },
  {
   "cell_type": "code",
   "execution_count": 17,
   "metadata": {
    "collapsed": false
   },
   "outputs": [
    {
     "name": "stdout",
     "output_type": "stream",
     "text": [
      "\n",
      "TABLE-2: GENERATED S-BOX:\n",
      "   1   2   4  16 243  90 222  86 199 133 232   6  64 224  41 162\n",
      " 136 102 103 206 186 120  84 213  49  79  35   9 226 164 194 153\n",
      " 189  83 210  40  81 140  55 101 139 163  97 137 204 150 129 182\n",
      " 191  61  28 223 172 251  23 104 237 192 122  33  94  63 112 170\n",
      " 218 119  42  53  69 152 230 185  60  14 216 249 225  82 105 171\n",
      " 197 125 121 168 142 220 173 135  51  77 236  96 252  46 195  67\n",
      "  38  72 117 178 214  98  99 198 250 179 221  43 106  39 144 227\n",
      "  57 229 228 114  74 165 245  25 209  20  13 108 156  44 212 160\n",
      "  34 188 145 183  15 193 244 180 203  75  59   7 128  91 205  93\n",
      " 167  71 130  29 207   5  32  47 247 100 253  92 235  48 159  17\n",
      " 151 115 148 124 132 116  89 111  85 219 238 241 174 127 149 248\n",
      " 200 123  66  19 190 166 155  22  52 154  11  27 215 196 134 161\n",
      "  68  76 118  21  26 211  80  70  65 177 107  78 169 109  73 234\n",
      "  24 208  10 181 231   3   8 113  37  36  18  95 126 242  45 217\n",
      " 131  58 187 240  87 255  54 138 233  12 239 147  62  56 202 157\n",
      "  88 143 201 246  50 158 176 141 110 146  31 175 254 184  30   0\n"
     ]
    }
   ],
   "source": [
    "# Generation of S-box\n",
    "phi = 1\n",
    "for i in xrange(16):\n",
    "\tfor j in xrange(16):\n",
    "\t\tif 16*i+j == 0:\t\t\t\t# Base case in S-box, for index (16*i+j)=0, phi(0)=1 (as mentioned in Paper)  \n",
    "\t\t\tsbox[i][j] = phi \n",
    "\t\telif 16*i+j == 230:\t\t\t# Exception case 1: index=230\n",
    "\t\t\tindex = (phi+12+1)%mod\t\t# At this point, phi = 255; adding 1 for adjusting index after mod\n",
    "\t\t\tphi = invert_G[index/16][index%16]\n",
    "\t\t\tsbox[i][j] = phi \n",
    "\t\telif 16*i+j == 234:\t\t\t# Exception case 2: index=234\n",
    "\t\t\tindex = (phi+18)%mod\n",
    "\t\t\tphi = invert_G[index/16][index%16]\n",
    "\t\t\tsbox[i][j] = phi\n",
    "\t\telif 16*i+j == 255:\t\t\t# Last element in S-box; phi(255)=0  \n",
    "\t\t\tsbox[i][j] = 0\t\t \n",
    "\t\telse:\n",
    "\t\t\tindex = phi\n",
    "\t\t\tphi = invert_G[index/16][index%16]\n",
    "\t\t\tsbox[i][j] = phi\n",
    "\n",
    "# Display S-box\t\t\t\n",
    "print '\\nTABLE-2: GENERATED S-BOX:'\t\t\t\t\t\t\t\t\n",
    "print('\\n'.join([''.join(['{:4}'.format(i) for i in j]) for j in sbox]))"
   ]
  },
  {
   "cell_type": "code",
   "execution_count": 18,
   "metadata": {
    "collapsed": false
   },
   "outputs": [
    {
     "name": "stdout",
     "output_type": "stream",
     "text": [
      "\n",
      "TABLE-3: INVERTIBLE S-BOX:\n",
      " 255   0   1 213   2 149  11 139 214  27 210 186 233 122  73 132\n",
      "   3 159 218 179 121 195 183  54 208 119 196 187  50 147 254 250\n",
      " 150  59 128  26 217 216  96 109  35  14  66 107 125 222  93 151\n",
      " 157  24 244  88 184  67 230  38 237 112 225 138  72  49 236  61\n",
      "  12 200 178  95 192  68 199 145  97 206 116 137 193  89 203  25\n",
      " 198  36  77  33  22 168   7 228 240 166   5 141 155 143  60 219\n",
      "  91  42 101 102 153  39  17  18  55  78 108 202 123 205 248 167\n",
      "  62 215 115 161 165  98 194  65  21  82  58 177 163  81 220 173\n",
      " 140  46 146 224 164   9 190  87  16  43 231  40  37 247  84 241\n",
      " 110 130 249 235 162 174  45 160  69  31 185 182 124 239 245 158\n",
      " 127 191  15  41  29 117 181 144  83 204  63  79  52  86 172 251\n",
      " 246 201  99 105 135 211  47 131 253  71  20 226 129  32 180  48\n",
      "  57 133  30  94 189  80 103   8 176 242 238 136  44 142  19 148\n",
      " 209 120  34 197 126  23 100 188  74 223  64 169  85 106   6  51\n",
      "  13  76  28 111 114 113  70 212  10 232 207 156  90  56 170 234\n",
      " 227 171 221   4 134 118 243 152 175  75 104  53  92 154 252 229\n"
     ]
    }
   ],
   "source": [
    "# Invertible S-box\n",
    "for i in xrange(16):\n",
    "\tfor j in xrange(16):\n",
    "\t\tindex = sbox[i][j]\n",
    "\t\tinvert_sbox[index/16][index%16] = 16*i+j\n",
    "\n",
    "# Display Invertible S-box\t\t\t\n",
    "print '\\nTABLE-3: INVERTIBLE S-BOX:'\t\t\t\t\t\t\t\t\n",
    "print('\\n'.join([''.join(['{:4}'.format(i) for i in j]) for j in invert_sbox]))"
   ]
  },
  {
   "cell_type": "code",
   "execution_count": 9,
   "metadata": {
    "collapsed": true
   },
   "outputs": [],
   "source": [
    "# END STEP-1/3\n"
   ]
  },
  {
   "cell_type": "code",
   "execution_count": 10,
   "metadata": {
    "collapsed": true
   },
   "outputs": [],
   "source": [
    "# STEP 2/3: Using Image Encryption Scheme\n",
    "# 1. Partial Encryption of a 512x512 image using S-box\n",
    "# 2. Full Encryption by perform 10 iterations using Arnold Transform "
   ]
  },
  {
   "cell_type": "code",
   "execution_count": null,
   "metadata": {
    "collapsed": true
   },
   "outputs": [],
   "source": []
  }
 ],
 "metadata": {
  "kernelspec": {
   "display_name": "Python 2",
   "language": "python",
   "name": "python2"
  },
  "language_info": {
   "codemirror_mode": {
    "name": "ipython",
    "version": 2
   },
   "file_extension": ".py",
   "mimetype": "text/x-python",
   "name": "python",
   "nbconvert_exporter": "python",
   "pygments_lexer": "ipython2",
   "version": "2.7.11"
  }
 },
 "nbformat": 4,
 "nbformat_minor": 0
}
